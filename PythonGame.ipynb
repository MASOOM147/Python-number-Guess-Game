{
  "nbformat": 4,
  "nbformat_minor": 0,
  "metadata": {
    "colab": {
      "provenance": []
    },
    "kernelspec": {
      "name": "python3",
      "display_name": "Python 3"
    },
    "language_info": {
      "name": "python"
    }
  },
  "cells": [
    {
      "cell_type": "code",
      "execution_count": null,
      "metadata": {
        "id": "NL5wyxlOEdN4"
      },
      "outputs": [],
      "source": []
    },
    {
      "cell_type": "markdown",
      "source": [
        "# Number Guessing Game\n",
        "This is a simple Python game where the player needs to guess a random number between 1 and 20. The game provides feedback on whether the guess is too high or too low and allows the player up to 5 attempts to guess the correct number.\n",
        "\n",
        "# How to Play\n",
        "Run the number_guessing_game.py script.\n",
        "Enter your name when prompted.\n",
        "Try to guess the correct number between 1 and 20.\n",
        "You have a maximum of 5 attempts to guess the correct number.\n",
        "If you guess correctly, you'll be congratulated with the number of attempts it took.\n",
        "If you run out of attempts, the correct number will be revealed, and you can try again.\n",
        "#Enjoy the game and have fun guessing the number!\n",
        "\n",
        "\n",
        "\n",
        "\n",
        "\n"
      ],
      "metadata": {
        "id": "uA3b4YiSGOME"
      }
    },
    {
      "cell_type": "code",
      "source": [
        "import random\n",
        "\n",
        "def welcome_player():\n",
        "    \"\"\"Welcome the player and ask for their name.\"\"\"\n",
        "    name = input(\"Welcome to the Number Guessing Game! What's your name? \")\n",
        "    print(f\"Hello, {name}! I'm thinking of a number between 1 and 20.\")\n",
        "\n",
        "def get_random_number():\n",
        "    \"\"\"Generate a random number between 1 and 20.\"\"\"\n",
        "    return random.randint(1, 20)\n",
        "\n",
        "def get_player_guess():\n",
        "    \"\"\"Get and validate the player's guess.\"\"\"\n",
        "    while True:\n",
        "        try:\n",
        "            guess = int(input(\"Take a guess: \"))\n",
        "            if 1 <= guess <= 20:\n",
        "                return guess\n",
        "            else:\n",
        "                print(\"Please enter a number between 1 and 20.\")\n",
        "        except ValueError:\n",
        "            print(\"Invalid input. Please enter a valid number.\")\n",
        "\n",
        "def play_game():\n",
        "    \"\"\"Main game logic.\"\"\"\n",
        "    target_number = get_random_number()\n",
        "    attempts = 0\n",
        "\n",
        "    while attempts < 5:\n",
        "        attempts += 1\n",
        "        guess = get_player_guess()\n",
        "\n",
        "        if guess == target_number:\n",
        "            print(f\"Congratulations! You guessed the number {target_number} in {attempts} attempts.\")\n",
        "            break\n",
        "        elif guess < target_number:\n",
        "            print(\"Too low. Try again.\")\n",
        "        else:\n",
        "            print(\"Too high. Try again.\")\n",
        "\n",
        "    if attempts >= 5:\n",
        "        print(f\"Sorry, you've run out of attempts. The correct number was {target_number}. Try again!\")\n",
        "\n",
        "def main():\n",
        "    \"\"\"Main function to start the game.\"\"\"\n",
        "    welcome_player()\n",
        "    play_game()\n",
        "\n",
        "if __name__ == \"__main__\":\n",
        "    main()\n"
      ],
      "metadata": {
        "colab": {
          "base_uri": "https://localhost:8080/"
        },
        "id": "Iy8XT3-GEowJ",
        "outputId": "47c6e3da-aff0-40ff-b61d-4b7778e4ebfd"
      },
      "execution_count": null,
      "outputs": [
        {
          "output_type": "stream",
          "name": "stdout",
          "text": [
            "Welcome to the Number Guessing Game! What's your name? MASSOM\n",
            "Hello, MASSOM! I'm thinking of a number between 1 and 20.\n",
            "Take a guess: 7\n",
            "Too low. Try again.\n",
            "Take a guess: 19\n",
            "Too high. Try again.\n",
            "Take a guess: 15\n",
            "Congratulations! You guessed the number 15 in 3 attempts.\n"
          ]
        }
      ]
    },
    {
      "cell_type": "code",
      "source": [],
      "metadata": {
        "id": "qzF8aUd1FjwN"
      },
      "execution_count": null,
      "outputs": []
    },
    {
      "cell_type": "code",
      "source": [
        "\n"
      ],
      "metadata": {
        "id": "7RTZpOoBGC2g"
      },
      "execution_count": null,
      "outputs": []
    },
    {
      "cell_type": "code",
      "source": [],
      "metadata": {
        "id": "tfKbR68YGHeu"
      },
      "execution_count": null,
      "outputs": []
    }
  ]
}